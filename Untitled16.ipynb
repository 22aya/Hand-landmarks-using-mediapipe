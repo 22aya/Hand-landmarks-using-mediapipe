{
 "cells": [
  {
   "cell_type": "code",
   "execution_count": null,
   "metadata": {
    "id": "VWoz7aYDf0Mf"
   },
   "outputs": [],
   "source": [
    "import cv2\n",
    "import time\n",
    "import mediapipe\n",
    "\n",
    "result = cv2.VideoWriter('handlandmarks.avi', cv2.VideoWriter_fourcc(*'XVID'), 30, (640, 480))\n",
    "cap = cv2.VideoCapture(0)\n",
    "\n",
    "if not cap.isOpened():  # Check if the webcam is opened successfully\n",
    "    print(\"Error: Failed to open webcam\")\n",
    "    exit()\n",
    "\n",
    "mphands = mediapipe.solutions.hands\n",
    "hands = mphands.Hands()\n",
    "mpDraw = mediapipe.solutions.drawing_utils\n",
    "\n",
    "pTime = 0\n",
    "cTime = 0\n",
    "\n",
    "while True:\n",
    "    ret, img = cap.read()  # Check if the frame is successfully captured\n",
    "    if not ret:\n",
    "        print(\"Error: Failed to capture frame\")\n",
    "        break\n",
    "\n",
    "    imgRGB = cv2.cvtColor(img, cv2.COLOR_BGR2RGB)\n",
    "    results = hands.process(imgRGB)\n",
    "\n",
    "    if results.multi_hand_landmarks:\n",
    "        for handLms in results.multi_hand_landmarks:\n",
    "            for idd, lm in enumerate(handLms.landmark):\n",
    "                h, w, c = img.shape\n",
    "                cx, cy = int(lm.x * w), int(lm.y * h)\n",
    "                #print(idd, cx, cy)\n",
    "                if idd == 0:\n",
    "                    cv2.circle(img, (cx, cy), 9, (255, 0, 255), cv2.FILLED)\n",
    "            mpDraw.draw_landmarks(img, handLms, mphands.HAND_CONNECTIONS)\n",
    "\n",
    "    cTime = time.time()\n",
    "    fps = 1 / (cTime - pTime)\n",
    "    pTime = cTime\n",
    "\n",
    "    cv2.putText(img, f'FPS: {int(fps)}', (10, 70), cv2.FONT_HERSHEY_PLAIN, 3, (255, 0, 255), 3)  # Display FPS\n",
    "\n",
    "    result.write(img)\n",
    "    cv2.imshow(\"Hand Landmarks\", img)\n",
    "\n",
    "    key = cv2.waitKey(1)\n",
    "    if key == 27:\n",
    "        break\n",
    "\n",
    "cv2.destroyAllWindows()\n",
    "cap.release()\n"
   ]
  },
  {
   "cell_type": "code",
   "execution_count": null,
   "metadata": {},
   "outputs": [],
   "source": []
  }
 ],
 "metadata": {
  "colab": {
   "provenance": []
  },
  "kernelspec": {
   "display_name": "Python 3 (ipykernel)",
   "language": "python",
   "name": "python3"
  },
  "language_info": {
   "codemirror_mode": {
    "name": "ipython",
    "version": 3
   },
   "file_extension": ".py",
   "mimetype": "text/x-python",
   "name": "python",
   "nbconvert_exporter": "python",
   "pygments_lexer": "ipython3",
   "version": "3.9.13"
  }
 },
 "nbformat": 4,
 "nbformat_minor": 1
}
